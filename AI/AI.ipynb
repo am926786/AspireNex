{
 "cells": [
  {
   "cell_type": "code",
   "execution_count": null,
   "id": "1aa86fd9-a2af-4ee9-b90f-f22655ca6e5c",
   "metadata": {},
   "outputs": [
    {
     "name": "stdout",
     "output_type": "stream",
     "text": [
      "Chatbot: Hello! How can I help you today?\n"
     ]
    },
    {
     "name": "stdin",
     "output_type": "stream",
     "text": [
      "You:  how are you today\n"
     ]
    },
    {
     "name": "stdout",
     "output_type": "stream",
     "text": [
      "Chatbot: I'm doing well, thank you for asking!\n"
     ]
    },
    {
     "name": "stdin",
     "output_type": "stream",
     "text": [
      "You:  help me\n"
     ]
    },
    {
     "name": "stdout",
     "output_type": "stream",
     "text": [
      "Chatbot: I can help with basic conversation and answer some simple questions. What would you like to know?\n"
     ]
    },
    {
     "name": "stdin",
     "output_type": "stream",
     "text": [
      "You:  weather\n"
     ]
    },
    {
     "name": "stdout",
     "output_type": "stream",
     "text": [
      "Chatbot: I'm sorry, I don't have real-time weather information. You might want to check a weather app or website for that.\n"
     ]
    },
    {
     "name": "stdin",
     "output_type": "stream",
     "text": [
      "You:  time\n"
     ]
    },
    {
     "name": "stdout",
     "output_type": "stream",
     "text": [
      "Chatbot: I'm not sure how to respond to that. Can you please rephrase or ask something else?\n"
     ]
    }
   ],
   "source": [
    "import re\n",
    "\n",
    "def simple_chatbot():\n",
    "    print(\"Chatbot: Hello! How can I help you today?\")\n",
    "    \n",
    "    while True:\n",
    "        user_input = input(\"You: \").lower()\n",
    "        \n",
    "        if re.search(r'\\b(hi|hello|hey)\\b', user_input):\n",
    "            print(\"Chatbot: Hi there! How are you doing?\")\n",
    "        \n",
    "        elif re.search(r'\\b(bye|goodbye|exit|quit)\\b', user_input):\n",
    "            print(\"Chatbot: Goodbye! Have a great day!\")\n",
    "            break\n",
    "        \n",
    "        elif re.search(r'\\b(how are you|how\\'s it going)\\b', user_input):\n",
    "            print(\"Chatbot: I'm doing well, thank you for asking!\")\n",
    "        \n",
    "        elif re.search(r'\\b(weather|temperature)\\b', user_input):\n",
    "            print(\"Chatbot: I'm sorry, I don't have real-time weather information. You might want to check a weather app or website for that.\")\n",
    "        \n",
    "        elif re.search(r'\\b(name)\\b', user_input):\n",
    "            print(\"Chatbot: My name is ChatBot. Nice to meet you!\")\n",
    "        \n",
    "        elif re.search(r'\\b(help|assist)\\b', user_input):\n",
    "            print(\"Chatbot: I can help with basic conversation and answer some simple questions. What would you like to know?\")\n",
    "        \n",
    "        else:\n",
    "            print(\"Chatbot: I'm not sure how to respond to that. Can you please rephrase or ask something else?\")\n",
    "\n",
    "if __name__ == \"__main__\":\n",
    "    simple_chatbot()"
   ]
  },
  {
   "cell_type": "markdown",
   "id": "020224b0-a04b-4119-8c21-d6ada7274150",
   "metadata": {},
   "source": [
    "Tic-Tac-Toe AI using the Minimax algorithm"
   ]
  },
  {
   "cell_type": "code",
   "execution_count": 1,
   "id": "f2366194-5e0d-44f6-987e-8fa6ebed70ca",
   "metadata": {},
   "outputs": [
    {
     "name": "stdout",
     "output_type": "stream",
     "text": [
      "  |   |  \n",
      "---------\n",
      "  |   |  \n",
      "---------\n",
      "  |   |  \n",
      "---------\n"
     ]
    },
    {
     "name": "stdin",
     "output_type": "stream",
     "text": [
      "Enter your move (row and column, 0-2):  1\n"
     ]
    },
    {
     "name": "stdout",
     "output_type": "stream",
     "text": [
      "Invalid input. Please enter two numbers separated by a space.\n"
     ]
    },
    {
     "name": "stdin",
     "output_type": "stream",
     "text": [
      "Enter your move (row and column, 0-2):  1 2\n"
     ]
    },
    {
     "name": "stdout",
     "output_type": "stream",
     "text": [
      "  |   | O\n",
      "---------\n",
      "  |   | X\n",
      "---------\n",
      "  |   |  \n",
      "---------\n"
     ]
    },
    {
     "name": "stdin",
     "output_type": "stream",
     "text": [
      "Enter your move (row and column, 0-2):  3 4\n"
     ]
    },
    {
     "name": "stdout",
     "output_type": "stream",
     "text": [
      "Invalid move. Try again.\n"
     ]
    },
    {
     "name": "stdin",
     "output_type": "stream",
     "text": [
      "Enter your move (row and column, 0-2):  0 1\n"
     ]
    },
    {
     "name": "stdout",
     "output_type": "stream",
     "text": [
      "  | X | O\n",
      "---------\n",
      "O |   | X\n",
      "---------\n",
      "  |   |  \n",
      "---------\n"
     ]
    },
    {
     "name": "stdin",
     "output_type": "stream",
     "text": [
      "Enter your move (row and column, 0-2):  2 1\n"
     ]
    },
    {
     "name": "stdout",
     "output_type": "stream",
     "text": [
      "  | X | O\n",
      "---------\n",
      "O | O | X\n",
      "---------\n",
      "  | X |  \n",
      "---------\n"
     ]
    },
    {
     "name": "stdin",
     "output_type": "stream",
     "text": [
      "Enter your move (row and column, 0-2):  3 1\n"
     ]
    },
    {
     "name": "stdout",
     "output_type": "stream",
     "text": [
      "Invalid move. Try again.\n"
     ]
    },
    {
     "name": "stdin",
     "output_type": "stream",
     "text": [
      "Enter your move (row and column, 0-2):  1 2\n"
     ]
    },
    {
     "name": "stdout",
     "output_type": "stream",
     "text": [
      "Invalid move. Try again.\n"
     ]
    },
    {
     "name": "stdin",
     "output_type": "stream",
     "text": [
      "Enter your move (row and column, 0-2):  1 0\n"
     ]
    },
    {
     "name": "stdout",
     "output_type": "stream",
     "text": [
      "Invalid move. Try again.\n"
     ]
    },
    {
     "name": "stdin",
     "output_type": "stream",
     "text": [
      "Enter your move (row and column, 0-2):  0 2\n"
     ]
    },
    {
     "name": "stdout",
     "output_type": "stream",
     "text": [
      "Invalid move. Try again.\n"
     ]
    },
    {
     "name": "stdin",
     "output_type": "stream",
     "text": [
      "Enter your move (row and column, 0-2):  2 0\n"
     ]
    },
    {
     "name": "stdout",
     "output_type": "stream",
     "text": [
      "  | X | O\n",
      "---------\n",
      "O | O | X\n",
      "---------\n",
      "X | X | O\n",
      "---------\n"
     ]
    },
    {
     "name": "stdin",
     "output_type": "stream",
     "text": [
      "Enter your move (row and column, 0-2):  0\n"
     ]
    },
    {
     "name": "stdout",
     "output_type": "stream",
     "text": [
      "Invalid input. Please enter two numbers separated by a space.\n"
     ]
    },
    {
     "name": "stdin",
     "output_type": "stream",
     "text": [
      "Enter your move (row and column, 0-2):  1\n"
     ]
    },
    {
     "name": "stdout",
     "output_type": "stream",
     "text": [
      "Invalid input. Please enter two numbers separated by a space.\n"
     ]
    },
    {
     "name": "stdin",
     "output_type": "stream",
     "text": [
      "Enter your move (row and column, 0-2):  1 0\n"
     ]
    },
    {
     "name": "stdout",
     "output_type": "stream",
     "text": [
      "Invalid move. Try again.\n"
     ]
    },
    {
     "name": "stdin",
     "output_type": "stream",
     "text": [
      "Enter your move (row and column, 0-2):  1 2\n"
     ]
    },
    {
     "name": "stdout",
     "output_type": "stream",
     "text": [
      "Invalid move. Try again.\n"
     ]
    },
    {
     "name": "stdin",
     "output_type": "stream",
     "text": [
      "Enter your move (row and column, 0-2):  2 1\n"
     ]
    },
    {
     "name": "stdout",
     "output_type": "stream",
     "text": [
      "Invalid move. Try again.\n"
     ]
    },
    {
     "name": "stdin",
     "output_type": "stream",
     "text": [
      "Enter your move (row and column, 0-2):  0 0\n"
     ]
    },
    {
     "name": "stdout",
     "output_type": "stream",
     "text": [
      "X | X | O\n",
      "---------\n",
      "O | O | X\n",
      "---------\n",
      "X | X | O\n",
      "---------\n",
      "It's a tie!\n"
     ]
    }
   ],
   "source": [
    "def print_board(board):\n",
    "    for row in board:\n",
    "        print(\" | \".join(row))\n",
    "        print(\"---------\")\n",
    "\n",
    "def is_winner(board, player):\n",
    "    # Check rows, columns, and diagonals\n",
    "    for i in range(3):\n",
    "        if all([board[i][j] == player for j in range(3)]) or \\\n",
    "           all([board[j][i] == player for j in range(3)]):\n",
    "            return True\n",
    "    if all([board[i][i] == player for i in range(3)]) or \\\n",
    "       all([board[i][2-i] == player for i in range(3)]):\n",
    "        return True\n",
    "    return False\n",
    "\n",
    "def is_board_full(board):\n",
    "    return all([cell != \" \" for row in board for cell in row])\n",
    "\n",
    "def get_empty_cells(board):\n",
    "    return [(i, j) for i in range(3) for j in range(3) if board[i][j] == \" \"]\n",
    "\n",
    "def minimax(board, depth, is_maximizing):\n",
    "    if is_winner(board, \"X\"):\n",
    "        return -1\n",
    "    if is_winner(board, \"O\"):\n",
    "        return 1\n",
    "    if is_board_full(board):\n",
    "        return 0\n",
    "    \n",
    "    if is_maximizing:\n",
    "        best_score = float(\"-inf\")\n",
    "        for i, j in get_empty_cells(board):\n",
    "            board[i][j] = \"O\"\n",
    "            score = minimax(board, depth + 1, False)\n",
    "            board[i][j] = \" \"\n",
    "            best_score = max(score, best_score)\n",
    "        return best_score\n",
    "    else:\n",
    "        best_score = float(\"inf\")\n",
    "        for i, j in get_empty_cells(board):\n",
    "            board[i][j] = \"X\"\n",
    "            score = minimax(board, depth + 1, True)\n",
    "            board[i][j] = \" \"\n",
    "            best_score = min(score, best_score)\n",
    "        return best_score\n",
    "\n",
    "def get_best_move(board):\n",
    "    best_score = float(\"-inf\")\n",
    "    best_move = None\n",
    "    for i, j in get_empty_cells(board):\n",
    "        board[i][j] = \"O\"\n",
    "        score = minimax(board, 0, False)\n",
    "        board[i][j] = \" \"\n",
    "        if score > best_score:\n",
    "            best_score = score\n",
    "            best_move = (i, j)\n",
    "    return best_move\n",
    "\n",
    "def play_tic_tac_toe():\n",
    "    board = [[\" \" for _ in range(3)] for _ in range(3)]\n",
    "    \n",
    "    while True:\n",
    "        print_board(board)\n",
    "        \n",
    "        # Human player's turn\n",
    "        while True:\n",
    "            try:\n",
    "                row, col = map(int, input(\"Enter your move (row and column, 0-2): \").split())\n",
    "                if 0 <= row <= 2 and 0 <= col <= 2 and board[row][col] == \" \":\n",
    "                    board[row][col] = \"X\"\n",
    "                    break\n",
    "                else:\n",
    "                    print(\"Invalid move. Try again.\")\n",
    "            except ValueError:\n",
    "                print(\"Invalid input. Please enter two numbers separated by a space.\")\n",
    "        \n",
    "        if is_winner(board, \"X\"):\n",
    "            print_board(board)\n",
    "            print(\"You win!\")\n",
    "            break\n",
    "        \n",
    "        if is_board_full(board):\n",
    "            print_board(board)\n",
    "            print(\"It's a tie!\")\n",
    "            break\n",
    "        \n",
    "        # AI player's turn\n",
    "        row, col = get_best_move(board)\n",
    "        board[row][col] = \"O\"\n",
    "        \n",
    "        if is_winner(board, \"O\"):\n",
    "            print_board(board)\n",
    "            print(\"AI wins!\")\n",
    "            break\n",
    "        \n",
    "        if is_board_full(board):\n",
    "            print_board(board)\n",
    "            print(\"It's a tie!\")\n",
    "            break\n",
    "\n",
    "if __name__ == \"__main__\":\n",
    "    play_tic_tac_toe()"
   ]
  },
  {
   "cell_type": "code",
   "execution_count": null,
   "id": "fae9345f-e86f-4391-af52-7a48e1462cc0",
   "metadata": {},
   "outputs": [],
   "source": []
  },
  {
   "cell_type": "code",
   "execution_count": null,
   "id": "bf698a91-b95c-4b6e-a1c3-6fc55ecf3637",
   "metadata": {},
   "outputs": [],
   "source": []
  }
 ],
 "metadata": {
  "kernelspec": {
   "display_name": "Python 3 (ipykernel)",
   "language": "python",
   "name": "python3"
  },
  "language_info": {
   "codemirror_mode": {
    "name": "ipython",
    "version": 3
   },
   "file_extension": ".py",
   "mimetype": "text/x-python",
   "name": "python",
   "nbconvert_exporter": "python",
   "pygments_lexer": "ipython3",
   "version": "3.11.7"
  }
 },
 "nbformat": 4,
 "nbformat_minor": 5
}
